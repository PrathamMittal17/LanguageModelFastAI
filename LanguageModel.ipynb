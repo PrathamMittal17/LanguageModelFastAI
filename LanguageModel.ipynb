{
  "cells": [
    {
      "cell_type": "code",
      "execution_count": 3,
      "id": "06486ddf",
      "metadata": {
        "id": "06486ddf"
      },
      "outputs": [],
      "source": [
        "from fastai.text.all import *"
      ]
    },
    {
      "cell_type": "code",
      "execution_count": 4,
      "id": "d2188e62",
      "metadata": {
        "colab": {
          "base_uri": "https://localhost:8080/",
          "height": 37
        },
        "id": "d2188e62",
        "outputId": "6589f842-e32b-4d43-ab47-52d3de8c3e4f"
      },
      "outputs": [
        {
          "output_type": "display_data",
          "data": {
            "text/plain": [
              "<IPython.core.display.HTML object>"
            ],
            "text/html": [
              "\n",
              "<style>\n",
              "    /* Turns off some styling */\n",
              "    progress {\n",
              "        /* gets rid of default border in Firefox and Opera. */\n",
              "        border: none;\n",
              "        /* Needs to be in here for Safari polyfill so background images work as expected. */\n",
              "        background-size: auto;\n",
              "    }\n",
              "    progress:not([value]), progress:not([value])::-webkit-progress-bar {\n",
              "        background: repeating-linear-gradient(45deg, #7e7e7e, #7e7e7e 10px, #5c5c5c 10px, #5c5c5c 20px);\n",
              "    }\n",
              "    .progress-bar-interrupted, .progress-bar-interrupted::-webkit-progress-bar {\n",
              "        background: #F44336;\n",
              "    }\n",
              "</style>\n"
            ]
          },
          "metadata": {}
        },
        {
          "output_type": "display_data",
          "data": {
            "text/plain": [
              "<IPython.core.display.HTML object>"
            ],
            "text/html": [
              "\n",
              "    <div>\n",
              "      <progress value='144441344' class='' max='144440600' style='width:300px; height:20px; vertical-align: middle;'></progress>\n",
              "      100.00% [144441344/144440600 00:05&lt;00:00]\n",
              "    </div>\n",
              "    "
            ]
          },
          "metadata": {}
        }
      ],
      "source": [
        "path = untar_data(URLs.IMDB)"
      ]
    },
    {
      "cell_type": "code",
      "execution_count": 5,
      "id": "300eb5ba",
      "metadata": {
        "colab": {
          "base_uri": "https://localhost:8080/",
          "height": 17
        },
        "id": "300eb5ba",
        "outputId": "1028a72c-b774-49ef-8b15-7faf816b7335"
      },
      "outputs": [
        {
          "output_type": "display_data",
          "data": {
            "text/plain": [
              "<IPython.core.display.HTML object>"
            ],
            "text/html": [
              "\n",
              "<style>\n",
              "    /* Turns off some styling */\n",
              "    progress {\n",
              "        /* gets rid of default border in Firefox and Opera. */\n",
              "        border: none;\n",
              "        /* Needs to be in here for Safari polyfill so background images work as expected. */\n",
              "        background-size: auto;\n",
              "    }\n",
              "    progress:not([value]), progress:not([value])::-webkit-progress-bar {\n",
              "        background: repeating-linear-gradient(45deg, #7e7e7e, #7e7e7e 10px, #5c5c5c 10px, #5c5c5c 20px);\n",
              "    }\n",
              "    .progress-bar-interrupted, .progress-bar-interrupted::-webkit-progress-bar {\n",
              "        background: #F44336;\n",
              "    }\n",
              "</style>\n"
            ]
          },
          "metadata": {}
        },
        {
          "output_type": "display_data",
          "data": {
            "text/plain": [
              "<IPython.core.display.HTML object>"
            ],
            "text/html": []
          },
          "metadata": {}
        }
      ],
      "source": [
        "dls_lm = TextDataLoaders.from_folder(path, is_lm=True, valid_pct=0.1)"
      ]
    },
    {
      "cell_type": "code",
      "execution_count": 6,
      "id": "aafb7e8f",
      "metadata": {
        "colab": {
          "base_uri": "https://localhost:8080/",
          "height": 536
        },
        "id": "aafb7e8f",
        "outputId": "13502e78-9447-4303-9070-2f7cad97627f"
      },
      "outputs": [
        {
          "output_type": "display_data",
          "data": {
            "text/plain": [
              "<IPython.core.display.HTML object>"
            ],
            "text/html": [
              "<table border=\"1\" class=\"dataframe\">\n",
              "  <thead>\n",
              "    <tr style=\"text-align: right;\">\n",
              "      <th></th>\n",
              "      <th>text</th>\n",
              "      <th>text_</th>\n",
              "    </tr>\n",
              "  </thead>\n",
              "  <tbody>\n",
              "    <tr>\n",
              "      <th>0</th>\n",
              "      <td>xxbos xxmaj if you are curious about watching this movie , be warned . xxmaj it 's a stinker and it is so obvious that even my wife could guess what happens next . xxmaj i 'm always looking for a solid ghost story , i happened upon this one from the imdb and it sounded like a good chiller . i hunted this movie down , finally got a copy and</td>\n",
              "      <td>xxmaj if you are curious about watching this movie , be warned . xxmaj it 's a stinker and it is so obvious that even my wife could guess what happens next . xxmaj i 'm always looking for a solid ghost story , i happened upon this one from the imdb and it sounded like a good chiller . i hunted this movie down , finally got a copy and told</td>\n",
              "    </tr>\n",
              "    <tr>\n",
              "      <th>1</th>\n",
              "      <td>of trash . xxmaj not even the very able and talented cast ( jemima xxmaj xxunk especially ) can save the thematic and plot line disasters that seem to lock this show into appealing to the lowest common denominator . xxmaj set at a posh xxmaj english finishing school or college . \\n\\n i do n't know if colleges in the xxup uk have a student body set in an old estate</td>\n",
              "      <td>trash . xxmaj not even the very able and talented cast ( jemima xxmaj xxunk especially ) can save the thematic and plot line disasters that seem to lock this show into appealing to the lowest common denominator . xxmaj set at a posh xxmaj english finishing school or college . \\n\\n i do n't know if colleges in the xxup uk have a student body set in an old estate in</td>\n",
              "    </tr>\n",
              "    <tr>\n",
              "      <th>2</th>\n",
              "      <td>jack direction from xxmaj brooks and superb editing in the early scenes ( where we see the mundane daily life of the innocent family about to be senselessly slaughtered beautifully intertwined with the plotting of the two hapless killers ) , a rich brooding atmosphere is created that sets the stage for riveting suspense ( even when everyone knows how this is all going to end due to the fact its all</td>\n",
              "      <td>direction from xxmaj brooks and superb editing in the early scenes ( where we see the mundane daily life of the innocent family about to be senselessly slaughtered beautifully intertwined with the plotting of the two hapless killers ) , a rich brooding atmosphere is created that sets the stage for riveting suspense ( even when everyone knows how this is all going to end due to the fact its all based</td>\n",
              "    </tr>\n",
              "    <tr>\n",
              "      <th>3</th>\n",
              "      <td>was it made today but truth is that this is a pretty harmless act . xxmaj the gloves take away a lot of the blow , so no cats got harmed during the making of this motion picture and actually seeing cats fight on the streets with their claws is of course something far more violent and violent looking , even though it 's just nature , unlike obviously putting gloves on</td>\n",
              "      <td>it made today but truth is that this is a pretty harmless act . xxmaj the gloves take away a lot of the blow , so no cats got harmed during the making of this motion picture and actually seeing cats fight on the streets with their claws is of course something far more violent and violent looking , even though it 's just nature , unlike obviously putting gloves on a</td>\n",
              "    </tr>\n",
              "    <tr>\n",
              "      <th>4</th>\n",
              "      <td>lane were odd because they sounded so much different from all the xxmaj xxunk and xxmaj lanes xxmaj i 've heard through the decades . xxmaj this xxmaj kent voice was noteworthy because it had the recognizable voice of xxmaj bud xxmaj collyer , who became quite famous in the 1950s by hosting two extremely popular xxup tv shows : \" beat xxmaj the xxmaj clock \" and \" to xxmaj tell</td>\n",
              "      <td>were odd because they sounded so much different from all the xxmaj xxunk and xxmaj lanes xxmaj i 've heard through the decades . xxmaj this xxmaj kent voice was noteworthy because it had the recognizable voice of xxmaj bud xxmaj collyer , who became quite famous in the 1950s by hosting two extremely popular xxup tv shows : \" beat xxmaj the xxmaj clock \" and \" to xxmaj tell xxmaj</td>\n",
              "    </tr>\n",
              "  </tbody>\n",
              "</table>"
            ]
          },
          "metadata": {}
        }
      ],
      "source": [
        "dls_lm.show_batch(max_n=5)"
      ]
    },
    {
      "cell_type": "code",
      "execution_count": 29,
      "id": "18ce5dbb",
      "metadata": {
        "id": "18ce5dbb"
      },
      "outputs": [],
      "source": [
        "learn = language_model_learner(dls_lm, AWD_LSTM, metrics=[accuracy], wd=0.1,path=\"/content\").to_fp16()"
      ]
    },
    {
      "cell_type": "code",
      "execution_count": 8,
      "id": "f62cbe5f",
      "metadata": {
        "colab": {
          "base_uri": "https://localhost:8080/",
          "height": 81
        },
        "id": "f62cbe5f",
        "outputId": "2f2b24f6-8a9f-467b-824d-5410efb9db91"
      },
      "outputs": [
        {
          "output_type": "display_data",
          "data": {
            "text/plain": [
              "<IPython.core.display.HTML object>"
            ],
            "text/html": [
              "\n",
              "<style>\n",
              "    /* Turns off some styling */\n",
              "    progress {\n",
              "        /* gets rid of default border in Firefox and Opera. */\n",
              "        border: none;\n",
              "        /* Needs to be in here for Safari polyfill so background images work as expected. */\n",
              "        background-size: auto;\n",
              "    }\n",
              "    progress:not([value]), progress:not([value])::-webkit-progress-bar {\n",
              "        background: repeating-linear-gradient(45deg, #7e7e7e, #7e7e7e 10px, #5c5c5c 10px, #5c5c5c 20px);\n",
              "    }\n",
              "    .progress-bar-interrupted, .progress-bar-interrupted::-webkit-progress-bar {\n",
              "        background: #F44336;\n",
              "    }\n",
              "</style>\n"
            ]
          },
          "metadata": {}
        },
        {
          "output_type": "display_data",
          "data": {
            "text/plain": [
              "<IPython.core.display.HTML object>"
            ],
            "text/html": [
              "<table border=\"1\" class=\"dataframe\">\n",
              "  <thead>\n",
              "    <tr style=\"text-align: left;\">\n",
              "      <th>epoch</th>\n",
              "      <th>train_loss</th>\n",
              "      <th>valid_loss</th>\n",
              "      <th>accuracy</th>\n",
              "      <th>perplexity</th>\n",
              "      <th>time</th>\n",
              "    </tr>\n",
              "  </thead>\n",
              "  <tbody>\n",
              "    <tr>\n",
              "      <td>0</td>\n",
              "      <td>4.398932</td>\n",
              "      <td>4.116609</td>\n",
              "      <td>0.285177</td>\n",
              "      <td>61.350826</td>\n",
              "      <td>42:26</td>\n",
              "    </tr>\n",
              "  </tbody>\n",
              "</table>"
            ]
          },
          "metadata": {}
        }
      ],
      "source": [
        "learn.fit_one_cycle(1, 1e-2)\n"
      ]
    },
    {
      "cell_type": "code",
      "execution_count": 15,
      "id": "806ef777",
      "metadata": {
        "colab": {
          "base_uri": "https://localhost:8080/",
          "height": 17
        },
        "id": "806ef777",
        "outputId": "cfe408ce-c14b-4d18-eeb1-b9b4ae676d91"
      },
      "outputs": [
        {
          "output_type": "display_data",
          "data": {
            "text/plain": [
              "<IPython.core.display.HTML object>"
            ],
            "text/html": [
              "\n",
              "<style>\n",
              "    /* Turns off some styling */\n",
              "    progress {\n",
              "        /* gets rid of default border in Firefox and Opera. */\n",
              "        border: none;\n",
              "        /* Needs to be in here for Safari polyfill so background images work as expected. */\n",
              "        background-size: auto;\n",
              "    }\n",
              "    progress:not([value]), progress:not([value])::-webkit-progress-bar {\n",
              "        background: repeating-linear-gradient(45deg, #7e7e7e, #7e7e7e 10px, #5c5c5c 10px, #5c5c5c 20px);\n",
              "    }\n",
              "    .progress-bar-interrupted, .progress-bar-interrupted::-webkit-progress-bar {\n",
              "        background: #F44336;\n",
              "    }\n",
              "</style>\n"
            ]
          },
          "metadata": {}
        },
        {
          "output_type": "display_data",
          "data": {
            "text/plain": [
              "<IPython.core.display.HTML object>"
            ],
            "text/html": []
          },
          "metadata": {}
        }
      ],
      "source": [
        "TEXT = \"This movie was good \"\n",
        "N_WORDS = 20\n",
        "N_SENTENCES = 1\n",
        "preds = [learn.predict(TEXT, N_WORDS, temperature=0.75) \n",
        "         for _ in range(N_SENTENCES)]"
      ]
    },
    {
      "cell_type": "code",
      "execution_count": 16,
      "id": "d7a9ff69",
      "metadata": {
        "colab": {
          "base_uri": "https://localhost:8080/"
        },
        "id": "d7a9ff69",
        "outputId": "3c3e504a-100d-4f64-f71a-e78167eeabe9"
      },
      "outputs": [
        {
          "output_type": "stream",
          "name": "stdout",
          "text": [
            "This movie was good , but it i have seen with this one also ! People who do n't know it , say\n"
          ]
        }
      ],
      "source": [
        "print(\"\\n\".join(preds))\n"
      ]
    },
    {
      "cell_type": "code",
      "source": [
        "learn.export(\"language_model.pkl\")"
      ],
      "metadata": {
        "id": "MpHUQk4I3UC_"
      },
      "id": "MpHUQk4I3UC_",
      "execution_count": 31,
      "outputs": []
    },
    {
      "cell_type": "code",
      "source": [],
      "metadata": {
        "id": "-wfwQyvE2IR2"
      },
      "id": "-wfwQyvE2IR2",
      "execution_count": null,
      "outputs": []
    }
  ],
  "metadata": {
    "kernelspec": {
      "display_name": "Python 3 (ipykernel)",
      "language": "python",
      "name": "python3"
    },
    "language_info": {
      "codemirror_mode": {
        "name": "ipython",
        "version": 3
      },
      "file_extension": ".py",
      "mimetype": "text/x-python",
      "name": "python",
      "nbconvert_exporter": "python",
      "pygments_lexer": "ipython3",
      "version": "3.9.13"
    },
    "colab": {
      "provenance": []
    },
    "accelerator": "GPU",
    "gpuClass": "standard"
  },
  "nbformat": 4,
  "nbformat_minor": 5
}